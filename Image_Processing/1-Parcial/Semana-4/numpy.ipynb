{
 "cells": [
  {
   "cell_type": "code",
   "execution_count": 2,
   "metadata": {},
   "outputs": [],
   "source": [
    "import numpy as np"
   ]
  },
  {
   "cell_type": "code",
   "execution_count": 8,
   "metadata": {},
   "outputs": [
    {
     "data": {
      "text/plain": [
       "array([[1, 2, 3],\n",
       "       [1, 2, 3]])"
      ]
     },
     "execution_count": 8,
     "metadata": {},
     "output_type": "execute_result"
    }
   ],
   "source": [
    "np.array([[1,2,3],[1,2,3]])"
   ]
  },
  {
   "cell_type": "code",
   "execution_count": 10,
   "metadata": {},
   "outputs": [
    {
     "data": {
      "text/plain": [
       "array([0, 1, 2, 3, 4, 5, 6, 7, 8, 9], dtype=int16)"
      ]
     },
     "execution_count": 10,
     "metadata": {},
     "output_type": "execute_result"
    }
   ],
   "source": [
    "# convert a list o an array\n",
    "np.array(list(range(10)), dtype=np.int16)"
   ]
  },
  {
   "cell_type": "code",
   "execution_count": 24,
   "metadata": {},
   "outputs": [],
   "source": [
    "x = np.ones((10,10), dtype=np.int16)"
   ]
  },
  {
   "cell_type": "code",
   "execution_count": 21,
   "metadata": {},
   "outputs": [
    {
     "data": {
      "text/plain": [
       "array([[1, 0, 0, 0, 0],\n",
       "       [0, 1, 0, 0, 0],\n",
       "       [0, 0, 1, 0, 0],\n",
       "       [0, 0, 0, 1, 0],\n",
       "       [0, 0, 0, 0, 1]], dtype=int16)"
      ]
     },
     "execution_count": 21,
     "metadata": {},
     "output_type": "execute_result"
    }
   ],
   "source": [
    "np.eye(5,dtype=np.int16)"
   ]
  },
  {
   "cell_type": "code",
   "execution_count": 25,
   "metadata": {},
   "outputs": [
    {
     "data": {
      "text/plain": [
       "array([[1, 1, 1, 1, 1, 1, 1, 1, 1, 1],\n",
       "       [1, 1, 1, 1, 1, 1, 1, 1, 1, 1],\n",
       "       [1, 1, 1, 1, 1, 1, 1, 1, 1, 1],\n",
       "       [1, 1, 1, 1, 1, 1, 1, 1, 1, 1],\n",
       "       [1, 1, 1, 1, 1, 1, 1, 1, 1, 1],\n",
       "       [1, 1, 1, 1, 1, 1, 1, 1, 1, 1],\n",
       "       [1, 1, 1, 1, 1, 1, 1, 1, 1, 1],\n",
       "       [1, 1, 1, 1, 1, 1, 1, 1, 1, 1],\n",
       "       [1, 1, 1, 1, 1, 1, 1, 1, 1, 1],\n",
       "       [1, 1, 1, 1, 1, 1, 1, 1, 1, 1]], dtype=int16)"
      ]
     },
     "execution_count": 25,
     "metadata": {},
     "output_type": "execute_result"
    }
   ],
   "source": [
    "    # transpose x\n",
    "x.T\n"
   ]
  },
  {
   "cell_type": "code",
   "execution_count": 26,
   "metadata": {},
   "outputs": [
    {
     "data": {
      "text/plain": [
       "array([[0.12782802, 0.01648436, 0.322633  , 0.86786331, 0.19151532,\n",
       "        0.03773334, 0.31556051, 0.881175  , 0.39242755, 0.66873865],\n",
       "       [0.46912857, 0.1352678 , 0.01584712, 0.79152667, 0.87810641,\n",
       "        0.49758616, 0.65996581, 0.32516183, 0.31645486, 0.25213306],\n",
       "       [0.11234248, 0.39158525, 0.38220533, 0.03779327, 0.29258318,\n",
       "        0.071325  , 0.07058783, 0.00796424, 0.98877843, 0.25830384],\n",
       "       [0.12728482, 0.15588198, 0.34414079, 0.65526796, 0.90012445,\n",
       "        0.55864355, 0.88486997, 0.02013055, 0.19711654, 0.15340682],\n",
       "       [0.83523308, 0.77517587, 0.07140764, 0.32120945, 0.72890316,\n",
       "        0.45870402, 0.17886655, 0.35079002, 0.16501262, 0.55675376],\n",
       "       [0.25137181, 0.52344644, 0.92334899, 0.10797921, 0.6913239 ,\n",
       "        0.64191894, 0.66348426, 0.54199928, 0.10007426, 0.05206267],\n",
       "       [0.89570041, 0.8540498 , 0.74995265, 0.20159681, 0.35648814,\n",
       "        0.56714397, 0.17531703, 0.7006952 , 0.18201607, 0.44665182],\n",
       "       [0.49318919, 0.24963799, 0.1555239 , 0.42585444, 0.74495159,\n",
       "        0.58971636, 0.56547934, 0.3092294 , 0.15019737, 0.83575704],\n",
       "       [0.54635899, 0.3602162 , 0.98627631, 0.1112923 , 0.75363935,\n",
       "        0.97700263, 0.58782431, 0.43944816, 0.45895771, 0.36617461],\n",
       "       [0.64788467, 0.48606141, 0.98185647, 0.68658073, 0.12381726,\n",
       "        0.25390253, 0.79552579, 0.68749762, 0.51017516, 0.16866041]])"
      ]
     },
     "execution_count": 26,
     "metadata": {},
     "output_type": "execute_result"
    }
   ],
   "source": [
    "# random numbers array\n",
    "np.random.random(10,10)"
   ]
  }
 ],
 "metadata": {
  "kernelspec": {
   "display_name": "Python 3",
   "language": "python",
   "name": "python3"
  },
  "language_info": {
   "codemirror_mode": {
    "name": "ipython",
    "version": 3
   },
   "file_extension": ".py",
   "mimetype": "text/x-python",
   "name": "python",
   "nbconvert_exporter": "python",
   "pygments_lexer": "ipython3",
   "version": "3.11.3"
  },
  "orig_nbformat": 4
 },
 "nbformat": 4,
 "nbformat_minor": 2
}
