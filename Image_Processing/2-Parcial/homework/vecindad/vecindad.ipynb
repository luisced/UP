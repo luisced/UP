{
 "cells": [
  {
   "cell_type": "code",
   "execution_count": 1,
   "metadata": {},
   "outputs": [],
   "source": [
    "from dataclasses import dataclass\n",
    "from typing import Dict, List, Tuple\n",
    "import numpy as np"
   ]
  },
  {
   "cell_type": "code",
   "execution_count": 2,
   "metadata": {},
   "outputs": [],
   "source": [
    "@dataclass\n",
    "class Neighborhood:\n",
    "    # Constants for types of neighborhoods\n",
    "    FOUR_NEIGHBORS = [(-1, 0), (1, 0), (0, -1), (0, 1)]\n",
    "    EIGHT_NEIGHBORS = FOUR_NEIGHBORS + [(-1, -1), (-1, 1), (1, -1), (1, 1)]\n",
    "\n",
    "    matrix: np.ndarray\n",
    "    \n",
    "    def __post_init__(self):\n",
    "        \"\"\"Set up additional attributes after initialization.\"\"\"\n",
    "        self.rows, self.cols = self.matrix.shape\n",
    "\n",
    "    def is_within_boundaries(self, i: int, j: int) -> bool:\n",
    "        \"\"\"Check if the indices (i, j) are within the matrix boundaries.\"\"\"\n",
    "        return 0 <= i < self.rows and 0 <= j < self.cols\n",
    "    \n",
    "\n",
    "    def __get_neighbors(self, i: int, j: int, directions: List[Tuple[int, int]]) -> List[Tuple[int, int]]:\n",
    "        \"\"\"Get neighbors of a cell (i, j) based on the given directions.\"\"\"\n",
    "        neighbors = []\n",
    "        for dx, dy in directions:\n",
    "            new_i, new_j = i + dx, j + dy\n",
    "            if self.is_within_boundaries(new_i, new_j) and self.matrix[new_i, new_j] > 0:\n",
    "                neighbors.append((new_i, new_j))\n",
    "        return neighbors\n",
    "\n",
    "    def get_four_neighbors(self, i: int, j: int) -> Dict[str, List[Tuple[int, int]]]:\n",
    "        \"\"\"Calculate the 4-neighborhood of the cell at position (i, j).\"\"\"\n",
    "        return {'4-Neighborhood': self.__get_neighbors(i, j, self.FOUR_NEIGHBORS)}\n",
    "\n",
    "    def get_eight_neighbors(self, i: int, j: int) -> Dict[str, List[Tuple[int, int]]]:\n",
    "        \"\"\"Calculate the 8-neighborhood of the cell at position (i, j).\"\"\"\n",
    "        return {'8-Neighborhood': self.__get_neighbors(i, j, self.EIGHT_NEIGHBORS)}\n",
    "    \n",
    "    \"\"\"\n",
    "        TODO: \n",
    "            - add Adjacency functions 4-N, 8-N, the condition is to prove that they're containted within V\n",
    "            - add M Adjacency function\n",
    "            ex: def get_four_neighbors(matrix, (i,j), {})\n",
    "                    return tuples of coordinates\n",
    "\n",
    "            Note: V = {}, V could be: V = {0,..,10}, then we should calculate the range between 0 and 10\n",
    "    \"\"\""
   ]
  },
  {
   "cell_type": "code",
   "execution_count": 3,
   "metadata": {},
   "outputs": [],
   "source": [
    "# Create an instance of the class with the given matrix\n",
    "matrix = np.identity(3)\n",
    "neighborhood = Neighborhood(matrix)"
   ]
  },
  {
   "cell_type": "code",
   "execution_count": 10,
   "metadata": {},
   "outputs": [
    {
     "name": "stdout",
     "output_type": "stream",
     "text": [
      "{'4-Neighborhood': []}\n",
      "{'8-Neighborhood': [(0, 0), (2, 2)]}\n"
     ]
    }
   ],
   "source": [
    "# Calculate and display the 4-neighborhood and 8-neighborhood of the cell at position (1, 1)\n",
    "four_neighbors = neighborhood.get_four_neighbors(1, 1)\n",
    "eight_neighbors = neighborhood.get_eight_neighbors(1, 1)\n",
    "\n",
    "print(four_neighbors, eight_neighbors, sep=\"\\n\")\n"
   ]
  },
  {
   "cell_type": "code",
   "execution_count": null,
   "metadata": {},
   "outputs": [],
   "source": []
  }
 ],
 "metadata": {
  "kernelspec": {
   "display_name": ".venv_img",
   "language": "python",
   "name": "python3"
  },
  "language_info": {
   "codemirror_mode": {
    "name": "ipython",
    "version": 3
   },
   "file_extension": ".py",
   "mimetype": "text/x-python",
   "name": "python",
   "nbconvert_exporter": "python",
   "pygments_lexer": "ipython3",
   "version": "3.11.3"
  },
  "orig_nbformat": 4
 },
 "nbformat": 4,
 "nbformat_minor": 2
}
